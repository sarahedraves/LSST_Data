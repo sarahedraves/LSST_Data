{
 "cells": [
  {
   "cell_type": "code",
   "execution_count": 23,
   "id": "cc1186df-e97d-4b2c-89ea-64dc90216855",
   "metadata": {
    "execution": {
     "iopub.execute_input": "2024-07-22T20:18:57.771681Z",
     "iopub.status.busy": "2024-07-22T20:18:57.771295Z",
     "iopub.status.idle": "2024-07-22T20:18:58.281321Z",
     "shell.execute_reply": "2024-07-22T20:18:58.280534Z",
     "shell.execute_reply.started": "2024-07-22T20:18:57.771657Z"
    }
   },
   "outputs": [],
   "source": [
    "import numpy as np\n",
    "import pandas as pd\n",
    "from lsst.rsp import get_tap_service, retrieve_query\n",
    "import matplotlib.pyplot as plt"
   ]
  },
  {
   "cell_type": "code",
   "execution_count": 2,
   "id": "7d17b965-bd9b-43c6-9d93-c491c1460db1",
   "metadata": {
    "execution": {
     "iopub.execute_input": "2024-07-22T19:38:39.047834Z",
     "iopub.status.busy": "2024-07-22T19:38:39.047640Z",
     "iopub.status.idle": "2024-07-22T19:38:39.059543Z",
     "shell.execute_reply": "2024-07-22T19:38:39.058883Z",
     "shell.execute_reply.started": "2024-07-22T19:38:39.047820Z"
    }
   },
   "outputs": [],
   "source": [
    "from GalaxyFunctions import *"
   ]
  },
  {
   "cell_type": "code",
   "execution_count": 3,
   "id": "375ec14d-14ba-4fb0-aa66-f7ef048a86fa",
   "metadata": {
    "execution": {
     "iopub.execute_input": "2024-07-22T19:38:39.060675Z",
     "iopub.status.busy": "2024-07-22T19:38:39.060385Z",
     "iopub.status.idle": "2024-07-22T19:38:39.110264Z",
     "shell.execute_reply": "2024-07-22T19:38:39.109642Z",
     "shell.execute_reply.started": "2024-07-22T19:38:39.060657Z"
    }
   },
   "outputs": [],
   "source": [
    "service = get_tap_service(\"tap\")"
   ]
  },
  {
   "cell_type": "code",
   "execution_count": 4,
   "id": "a3349544-24f8-48e4-851c-16976dfc8a1a",
   "metadata": {
    "execution": {
     "iopub.execute_input": "2024-07-22T19:38:39.111358Z",
     "iopub.status.busy": "2024-07-22T19:38:39.111130Z",
     "iopub.status.idle": "2024-07-22T19:38:39.114906Z",
     "shell.execute_reply": "2024-07-22T19:38:39.114099Z",
     "shell.execute_reply.started": "2024-07-22T19:38:39.111340Z"
    }
   },
   "outputs": [],
   "source": [
    "my_adql_query = \"SELECT TOP 10000 \"+ \\\n",
    "\t\"object.objectId as obj_id \"+ \\\n",
    "\t\",object.refExtendedness as extendedness \"+ \\\n",
    "\t\",matches.truth_type as truth_type \"+ \\\n",
    "    \",truths.truth_type as truth_type2 \"+ \\\n",
    "    \",truths.redshift as true_redshift \"+ \\\n",
    "    \",truths.mag_r as true_mag_r \"+ \\\n",
    "    \"FROM dp02_dc2_catalogs.Object object \"+ \\\n",
    "\t\"JOIN dp02_dc2_catalogs.MatchesTruth matches on object.objectId=matches.match_objectId \"+ \\\n",
    "    \"JOIN dp02_dc2_catalogs.TruthSummary truths on matches.id_truth_type = truths.id_truth_type\""
   ]
  },
  {
   "cell_type": "code",
   "execution_count": 5,
   "id": "06020f76-c1b1-4686-8e1f-44bba8f688a3",
   "metadata": {
    "execution": {
     "iopub.execute_input": "2024-07-22T19:38:39.116147Z",
     "iopub.status.busy": "2024-07-22T19:38:39.115864Z",
     "iopub.status.idle": "2024-07-22T19:40:25.339768Z",
     "shell.execute_reply": "2024-07-22T19:40:25.338985Z",
     "shell.execute_reply.started": "2024-07-22T19:38:39.116122Z"
    }
   },
   "outputs": [
    {
     "data": {
      "text/html": [
       "<div>\n",
       "<style scoped>\n",
       "    .dataframe tbody tr th:only-of-type {\n",
       "        vertical-align: middle;\n",
       "    }\n",
       "\n",
       "    .dataframe tbody tr th {\n",
       "        vertical-align: top;\n",
       "    }\n",
       "\n",
       "    .dataframe thead th {\n",
       "        text-align: right;\n",
       "    }\n",
       "</style>\n",
       "<table border=\"1\" class=\"dataframe\">\n",
       "  <thead>\n",
       "    <tr style=\"text-align: right;\">\n",
       "      <th></th>\n",
       "      <th>obj_id</th>\n",
       "      <th>extendedness</th>\n",
       "      <th>truth_type</th>\n",
       "      <th>truth_type2</th>\n",
       "      <th>true_redshift</th>\n",
       "      <th>true_mag_r</th>\n",
       "    </tr>\n",
       "  </thead>\n",
       "  <tbody>\n",
       "    <tr>\n",
       "      <th>0</th>\n",
       "      <td>1248684569339667465</td>\n",
       "      <td>0.0</td>\n",
       "      <td>1</td>\n",
       "      <td>1</td>\n",
       "      <td>1.199110</td>\n",
       "      <td>26.978800</td>\n",
       "    </tr>\n",
       "    <tr>\n",
       "      <th>1</th>\n",
       "      <td>1248684569339662222</td>\n",
       "      <td>0.0</td>\n",
       "      <td>1</td>\n",
       "      <td>1</td>\n",
       "      <td>1.279770</td>\n",
       "      <td>27.351700</td>\n",
       "    </tr>\n",
       "    <tr>\n",
       "      <th>2</th>\n",
       "      <td>1248684569339666791</td>\n",
       "      <td>1.0</td>\n",
       "      <td>1</td>\n",
       "      <td>1</td>\n",
       "      <td>1.164180</td>\n",
       "      <td>26.938200</td>\n",
       "    </tr>\n",
       "    <tr>\n",
       "      <th>3</th>\n",
       "      <td>1248684569339660119</td>\n",
       "      <td>1.0</td>\n",
       "      <td>1</td>\n",
       "      <td>1</td>\n",
       "      <td>0.788712</td>\n",
       "      <td>27.047701</td>\n",
       "    </tr>\n",
       "    <tr>\n",
       "      <th>4</th>\n",
       "      <td>1248684569339662114</td>\n",
       "      <td>0.0</td>\n",
       "      <td>1</td>\n",
       "      <td>1</td>\n",
       "      <td>0.795043</td>\n",
       "      <td>26.892000</td>\n",
       "    </tr>\n",
       "    <tr>\n",
       "      <th>...</th>\n",
       "      <td>...</td>\n",
       "      <td>...</td>\n",
       "      <td>...</td>\n",
       "      <td>...</td>\n",
       "      <td>...</td>\n",
       "      <td>...</td>\n",
       "    </tr>\n",
       "    <tr>\n",
       "      <th>9995</th>\n",
       "      <td>1248675773246608150</td>\n",
       "      <td>1.0</td>\n",
       "      <td>1</td>\n",
       "      <td>1</td>\n",
       "      <td>0.439385</td>\n",
       "      <td>23.284599</td>\n",
       "    </tr>\n",
       "    <tr>\n",
       "      <th>9996</th>\n",
       "      <td>1248675773246608231</td>\n",
       "      <td>1.0</td>\n",
       "      <td>1</td>\n",
       "      <td>1</td>\n",
       "      <td>0.367760</td>\n",
       "      <td>25.447701</td>\n",
       "    </tr>\n",
       "    <tr>\n",
       "      <th>9997</th>\n",
       "      <td>1248675773246608130</td>\n",
       "      <td>1.0</td>\n",
       "      <td>1</td>\n",
       "      <td>1</td>\n",
       "      <td>2.601760</td>\n",
       "      <td>26.127300</td>\n",
       "    </tr>\n",
       "    <tr>\n",
       "      <th>9998</th>\n",
       "      <td>1248675773246608135</td>\n",
       "      <td>1.0</td>\n",
       "      <td>1</td>\n",
       "      <td>1</td>\n",
       "      <td>0.902256</td>\n",
       "      <td>25.527100</td>\n",
       "    </tr>\n",
       "    <tr>\n",
       "      <th>9999</th>\n",
       "      <td>1248675773246608126</td>\n",
       "      <td>1.0</td>\n",
       "      <td>1</td>\n",
       "      <td>1</td>\n",
       "      <td>0.773233</td>\n",
       "      <td>25.923000</td>\n",
       "    </tr>\n",
       "  </tbody>\n",
       "</table>\n",
       "<p>10000 rows × 6 columns</p>\n",
       "</div>"
      ],
      "text/plain": [
       "                   obj_id  extendedness  truth_type  truth_type2  \\\n",
       "0     1248684569339667465           0.0           1            1   \n",
       "1     1248684569339662222           0.0           1            1   \n",
       "2     1248684569339666791           1.0           1            1   \n",
       "3     1248684569339660119           1.0           1            1   \n",
       "4     1248684569339662114           0.0           1            1   \n",
       "...                   ...           ...         ...          ...   \n",
       "9995  1248675773246608150           1.0           1            1   \n",
       "9996  1248675773246608231           1.0           1            1   \n",
       "9997  1248675773246608130           1.0           1            1   \n",
       "9998  1248675773246608135           1.0           1            1   \n",
       "9999  1248675773246608126           1.0           1            1   \n",
       "\n",
       "      true_redshift  true_mag_r  \n",
       "0          1.199110   26.978800  \n",
       "1          1.279770   27.351700  \n",
       "2          1.164180   26.938200  \n",
       "3          0.788712   27.047701  \n",
       "4          0.795043   26.892000  \n",
       "...             ...         ...  \n",
       "9995       0.439385   23.284599  \n",
       "9996       0.367760   25.447701  \n",
       "9997       2.601760   26.127300  \n",
       "9998       0.902256   25.527100  \n",
       "9999       0.773233   25.923000  \n",
       "\n",
       "[10000 rows x 6 columns]"
      ]
     },
     "execution_count": 5,
     "metadata": {},
     "output_type": "execute_result"
    }
   ],
   "source": [
    "results = service.search(my_adql_query)\n",
    "results_table = results.to_table().to_pandas()\n",
    "results_table"
   ]
  },
  {
   "cell_type": "code",
   "execution_count": 6,
   "id": "df189d00-ee06-46ac-aaf0-3ba064b390fe",
   "metadata": {
    "execution": {
     "iopub.execute_input": "2024-07-22T19:40:25.340857Z",
     "iopub.status.busy": "2024-07-22T19:40:25.340646Z",
     "iopub.status.idle": "2024-07-22T19:40:25.346028Z",
     "shell.execute_reply": "2024-07-22T19:40:25.345409Z",
     "shell.execute_reply.started": "2024-07-22T19:40:25.340842Z"
    }
   },
   "outputs": [
    {
     "data": {
      "text/plain": [
       "10000"
      ]
     },
     "execution_count": 6,
     "metadata": {},
     "output_type": "execute_result"
    }
   ],
   "source": [
    "np.count_nonzero((results_table[\"truth_type\"]==results_table[\"truth_type2\"])==True) #just checking!"
   ]
  },
  {
   "cell_type": "code",
   "execution_count": 7,
   "id": "ffdba872-28b1-411b-af39-2fa61b50f35c",
   "metadata": {
    "execution": {
     "iopub.execute_input": "2024-07-22T19:40:25.351199Z",
     "iopub.status.busy": "2024-07-22T19:40:25.350930Z",
     "iopub.status.idle": "2024-07-22T19:40:25.370136Z",
     "shell.execute_reply": "2024-07-22T19:40:25.369501Z",
     "shell.execute_reply.started": "2024-07-22T19:40:25.351181Z"
    }
   },
   "outputs": [],
   "source": [
    "results_table[\"galaxy_match\"]=galaxy_match(results_table[\"extendedness\"],results_table[\"truth_type\"])"
   ]
  },
  {
   "cell_type": "code",
   "execution_count": 8,
   "id": "2d8b9d25-f900-4958-a7fe-360d0dd90bf1",
   "metadata": {
    "execution": {
     "iopub.execute_input": "2024-07-22T19:40:25.371350Z",
     "iopub.status.busy": "2024-07-22T19:40:25.371075Z",
     "iopub.status.idle": "2024-07-22T19:40:25.397248Z",
     "shell.execute_reply": "2024-07-22T19:40:25.396617Z",
     "shell.execute_reply.started": "2024-07-22T19:40:25.371325Z"
    }
   },
   "outputs": [
    {
     "data": {
      "text/html": [
       "<div>\n",
       "<style scoped>\n",
       "    .dataframe tbody tr th:only-of-type {\n",
       "        vertical-align: middle;\n",
       "    }\n",
       "\n",
       "    .dataframe tbody tr th {\n",
       "        vertical-align: top;\n",
       "    }\n",
       "\n",
       "    .dataframe thead th {\n",
       "        text-align: right;\n",
       "    }\n",
       "</style>\n",
       "<table border=\"1\" class=\"dataframe\">\n",
       "  <thead>\n",
       "    <tr style=\"text-align: right;\">\n",
       "      <th></th>\n",
       "      <th>obj_id</th>\n",
       "      <th>extendedness</th>\n",
       "      <th>truth_type</th>\n",
       "      <th>truth_type2</th>\n",
       "      <th>true_redshift</th>\n",
       "      <th>true_mag_r</th>\n",
       "    </tr>\n",
       "  </thead>\n",
       "  <tbody>\n",
       "    <tr>\n",
       "      <th>count</th>\n",
       "      <td>1.000000e+04</td>\n",
       "      <td>9997.00000</td>\n",
       "      <td>10000.000000</td>\n",
       "      <td>10000.000000</td>\n",
       "      <td>10000.000000</td>\n",
       "      <td>10000.000000</td>\n",
       "    </tr>\n",
       "    <tr>\n",
       "      <th>mean</th>\n",
       "      <td>1.248683e+18</td>\n",
       "      <td>0.80024</td>\n",
       "      <td>1.026100</td>\n",
       "      <td>1.026100</td>\n",
       "      <td>1.136279</td>\n",
       "      <td>25.528458</td>\n",
       "    </tr>\n",
       "    <tr>\n",
       "      <th>std</th>\n",
       "      <td>3.253945e+12</td>\n",
       "      <td>0.39984</td>\n",
       "      <td>0.159441</td>\n",
       "      <td>0.159441</td>\n",
       "      <td>0.629579</td>\n",
       "      <td>1.373236</td>\n",
       "    </tr>\n",
       "    <tr>\n",
       "      <th>min</th>\n",
       "      <td>1.248676e+18</td>\n",
       "      <td>0.00000</td>\n",
       "      <td>1.000000</td>\n",
       "      <td>1.000000</td>\n",
       "      <td>0.000000</td>\n",
       "      <td>12.947800</td>\n",
       "    </tr>\n",
       "    <tr>\n",
       "      <th>25%</th>\n",
       "      <td>1.248685e+18</td>\n",
       "      <td>1.00000</td>\n",
       "      <td>1.000000</td>\n",
       "      <td>1.000000</td>\n",
       "      <td>0.717876</td>\n",
       "      <td>24.929124</td>\n",
       "    </tr>\n",
       "    <tr>\n",
       "      <th>50%</th>\n",
       "      <td>1.248685e+18</td>\n",
       "      <td>1.00000</td>\n",
       "      <td>1.000000</td>\n",
       "      <td>1.000000</td>\n",
       "      <td>1.022800</td>\n",
       "      <td>25.802250</td>\n",
       "    </tr>\n",
       "    <tr>\n",
       "      <th>75%</th>\n",
       "      <td>1.248685e+18</td>\n",
       "      <td>1.00000</td>\n",
       "      <td>1.000000</td>\n",
       "      <td>1.000000</td>\n",
       "      <td>1.505835</td>\n",
       "      <td>26.413325</td>\n",
       "    </tr>\n",
       "    <tr>\n",
       "      <th>max</th>\n",
       "      <td>1.248685e+18</td>\n",
       "      <td>1.00000</td>\n",
       "      <td>2.000000</td>\n",
       "      <td>2.000000</td>\n",
       "      <td>3.023360</td>\n",
       "      <td>29.023600</td>\n",
       "    </tr>\n",
       "  </tbody>\n",
       "</table>\n",
       "</div>"
      ],
      "text/plain": [
       "             obj_id  extendedness    truth_type   truth_type2  true_redshift  \\\n",
       "count  1.000000e+04    9997.00000  10000.000000  10000.000000   10000.000000   \n",
       "mean   1.248683e+18       0.80024      1.026100      1.026100       1.136279   \n",
       "std    3.253945e+12       0.39984      0.159441      0.159441       0.629579   \n",
       "min    1.248676e+18       0.00000      1.000000      1.000000       0.000000   \n",
       "25%    1.248685e+18       1.00000      1.000000      1.000000       0.717876   \n",
       "50%    1.248685e+18       1.00000      1.000000      1.000000       1.022800   \n",
       "75%    1.248685e+18       1.00000      1.000000      1.000000       1.505835   \n",
       "max    1.248685e+18       1.00000      2.000000      2.000000       3.023360   \n",
       "\n",
       "         true_mag_r  \n",
       "count  10000.000000  \n",
       "mean      25.528458  \n",
       "std        1.373236  \n",
       "min       12.947800  \n",
       "25%       24.929124  \n",
       "50%       25.802250  \n",
       "75%       26.413325  \n",
       "max       29.023600  "
      ]
     },
     "execution_count": 8,
     "metadata": {},
     "output_type": "execute_result"
    }
   ],
   "source": [
    "results_table.describe()"
   ]
  },
  {
   "cell_type": "code",
   "execution_count": 10,
   "id": "b945eedb-527c-4122-a042-f9e859b569f0",
   "metadata": {
    "execution": {
     "iopub.execute_input": "2024-07-22T19:42:06.123737Z",
     "iopub.status.busy": "2024-07-22T19:42:06.122920Z",
     "iopub.status.idle": "2024-07-22T19:42:06.131206Z",
     "shell.execute_reply": "2024-07-22T19:42:06.130471Z",
     "shell.execute_reply.started": "2024-07-22T19:42:06.123707Z"
    }
   },
   "outputs": [
    {
     "data": {
      "text/plain": [
       "{'true positive %': '79.0%',\n",
       " 'false positive %': '1.0%',\n",
       " 'false negative %': '18.4%',\n",
       " 'true negative %': '1.6%'}"
      ]
     },
     "execution_count": 10,
     "metadata": {},
     "output_type": "execute_result"
    }
   ],
   "source": [
    "confusion_matrix(results_table[\"galaxy_match\"])"
   ]
  },
  {
   "cell_type": "code",
   "execution_count": 14,
   "id": "0a73e29f-d734-45dc-8906-6190e8c11c15",
   "metadata": {
    "execution": {
     "iopub.execute_input": "2024-07-22T20:07:12.060322Z",
     "iopub.status.busy": "2024-07-22T20:07:12.059998Z",
     "iopub.status.idle": "2024-07-22T20:07:12.067589Z",
     "shell.execute_reply": "2024-07-22T20:07:12.066810Z",
     "shell.execute_reply.started": "2024-07-22T20:07:12.060301Z"
    }
   },
   "outputs": [],
   "source": [
    "true_galaxies=results_table.loc[(results_table[\"galaxy_match\"]==\"true positive\") | (results_table[\"galaxy_match\"]==\"false negative\")]"
   ]
  },
  {
   "cell_type": "code",
   "execution_count": 15,
   "id": "6e21582b-15ea-4de8-8eb3-ded492e70987",
   "metadata": {
    "execution": {
     "iopub.execute_input": "2024-07-22T20:07:14.933592Z",
     "iopub.status.busy": "2024-07-22T20:07:14.933275Z",
     "iopub.status.idle": "2024-07-22T20:07:14.945229Z",
     "shell.execute_reply": "2024-07-22T20:07:14.944710Z",
     "shell.execute_reply.started": "2024-07-22T20:07:14.933557Z"
    }
   },
   "outputs": [
    {
     "data": {
      "text/html": [
       "<div>\n",
       "<style scoped>\n",
       "    .dataframe tbody tr th:only-of-type {\n",
       "        vertical-align: middle;\n",
       "    }\n",
       "\n",
       "    .dataframe tbody tr th {\n",
       "        vertical-align: top;\n",
       "    }\n",
       "\n",
       "    .dataframe thead th {\n",
       "        text-align: right;\n",
       "    }\n",
       "</style>\n",
       "<table border=\"1\" class=\"dataframe\">\n",
       "  <thead>\n",
       "    <tr style=\"text-align: right;\">\n",
       "      <th></th>\n",
       "      <th>obj_id</th>\n",
       "      <th>extendedness</th>\n",
       "      <th>truth_type</th>\n",
       "      <th>truth_type2</th>\n",
       "      <th>true_redshift</th>\n",
       "      <th>true_mag_r</th>\n",
       "      <th>galaxy_match</th>\n",
       "    </tr>\n",
       "  </thead>\n",
       "  <tbody>\n",
       "    <tr>\n",
       "      <th>0</th>\n",
       "      <td>1248684569339667465</td>\n",
       "      <td>0.0</td>\n",
       "      <td>1</td>\n",
       "      <td>1</td>\n",
       "      <td>1.199110</td>\n",
       "      <td>26.978800</td>\n",
       "      <td>false negative</td>\n",
       "    </tr>\n",
       "    <tr>\n",
       "      <th>1</th>\n",
       "      <td>1248684569339662222</td>\n",
       "      <td>0.0</td>\n",
       "      <td>1</td>\n",
       "      <td>1</td>\n",
       "      <td>1.279770</td>\n",
       "      <td>27.351700</td>\n",
       "      <td>false negative</td>\n",
       "    </tr>\n",
       "    <tr>\n",
       "      <th>2</th>\n",
       "      <td>1248684569339666791</td>\n",
       "      <td>1.0</td>\n",
       "      <td>1</td>\n",
       "      <td>1</td>\n",
       "      <td>1.164180</td>\n",
       "      <td>26.938200</td>\n",
       "      <td>true positive</td>\n",
       "    </tr>\n",
       "    <tr>\n",
       "      <th>3</th>\n",
       "      <td>1248684569339660119</td>\n",
       "      <td>1.0</td>\n",
       "      <td>1</td>\n",
       "      <td>1</td>\n",
       "      <td>0.788712</td>\n",
       "      <td>27.047701</td>\n",
       "      <td>true positive</td>\n",
       "    </tr>\n",
       "    <tr>\n",
       "      <th>4</th>\n",
       "      <td>1248684569339662114</td>\n",
       "      <td>0.0</td>\n",
       "      <td>1</td>\n",
       "      <td>1</td>\n",
       "      <td>0.795043</td>\n",
       "      <td>26.892000</td>\n",
       "      <td>false negative</td>\n",
       "    </tr>\n",
       "    <tr>\n",
       "      <th>...</th>\n",
       "      <td>...</td>\n",
       "      <td>...</td>\n",
       "      <td>...</td>\n",
       "      <td>...</td>\n",
       "      <td>...</td>\n",
       "      <td>...</td>\n",
       "      <td>...</td>\n",
       "    </tr>\n",
       "    <tr>\n",
       "      <th>9995</th>\n",
       "      <td>1248675773246608150</td>\n",
       "      <td>1.0</td>\n",
       "      <td>1</td>\n",
       "      <td>1</td>\n",
       "      <td>0.439385</td>\n",
       "      <td>23.284599</td>\n",
       "      <td>true positive</td>\n",
       "    </tr>\n",
       "    <tr>\n",
       "      <th>9996</th>\n",
       "      <td>1248675773246608231</td>\n",
       "      <td>1.0</td>\n",
       "      <td>1</td>\n",
       "      <td>1</td>\n",
       "      <td>0.367760</td>\n",
       "      <td>25.447701</td>\n",
       "      <td>true positive</td>\n",
       "    </tr>\n",
       "    <tr>\n",
       "      <th>9997</th>\n",
       "      <td>1248675773246608130</td>\n",
       "      <td>1.0</td>\n",
       "      <td>1</td>\n",
       "      <td>1</td>\n",
       "      <td>2.601760</td>\n",
       "      <td>26.127300</td>\n",
       "      <td>true positive</td>\n",
       "    </tr>\n",
       "    <tr>\n",
       "      <th>9998</th>\n",
       "      <td>1248675773246608135</td>\n",
       "      <td>1.0</td>\n",
       "      <td>1</td>\n",
       "      <td>1</td>\n",
       "      <td>0.902256</td>\n",
       "      <td>25.527100</td>\n",
       "      <td>true positive</td>\n",
       "    </tr>\n",
       "    <tr>\n",
       "      <th>9999</th>\n",
       "      <td>1248675773246608126</td>\n",
       "      <td>1.0</td>\n",
       "      <td>1</td>\n",
       "      <td>1</td>\n",
       "      <td>0.773233</td>\n",
       "      <td>25.923000</td>\n",
       "      <td>true positive</td>\n",
       "    </tr>\n",
       "  </tbody>\n",
       "</table>\n",
       "<p>9736 rows × 7 columns</p>\n",
       "</div>"
      ],
      "text/plain": [
       "                   obj_id  extendedness  truth_type  truth_type2  \\\n",
       "0     1248684569339667465           0.0           1            1   \n",
       "1     1248684569339662222           0.0           1            1   \n",
       "2     1248684569339666791           1.0           1            1   \n",
       "3     1248684569339660119           1.0           1            1   \n",
       "4     1248684569339662114           0.0           1            1   \n",
       "...                   ...           ...         ...          ...   \n",
       "9995  1248675773246608150           1.0           1            1   \n",
       "9996  1248675773246608231           1.0           1            1   \n",
       "9997  1248675773246608130           1.0           1            1   \n",
       "9998  1248675773246608135           1.0           1            1   \n",
       "9999  1248675773246608126           1.0           1            1   \n",
       "\n",
       "      true_redshift  true_mag_r    galaxy_match  \n",
       "0          1.199110   26.978800  false negative  \n",
       "1          1.279770   27.351700  false negative  \n",
       "2          1.164180   26.938200   true positive  \n",
       "3          0.788712   27.047701   true positive  \n",
       "4          0.795043   26.892000  false negative  \n",
       "...             ...         ...             ...  \n",
       "9995       0.439385   23.284599   true positive  \n",
       "9996       0.367760   25.447701   true positive  \n",
       "9997       2.601760   26.127300   true positive  \n",
       "9998       0.902256   25.527100   true positive  \n",
       "9999       0.773233   25.923000   true positive  \n",
       "\n",
       "[9736 rows x 7 columns]"
      ]
     },
     "execution_count": 15,
     "metadata": {},
     "output_type": "execute_result"
    }
   ],
   "source": [
    "true_galaxies"
   ]
  },
  {
   "cell_type": "code",
   "execution_count": 16,
   "id": "413dc3d2-292d-4cd6-8138-8f16db724cee",
   "metadata": {
    "execution": {
     "iopub.execute_input": "2024-07-22T20:08:20.322441Z",
     "iopub.status.busy": "2024-07-22T20:08:20.321686Z",
     "iopub.status.idle": "2024-07-22T20:08:20.327010Z",
     "shell.execute_reply": "2024-07-22T20:08:20.326432Z",
     "shell.execute_reply.started": "2024-07-22T20:08:20.322415Z"
    }
   },
   "outputs": [
    {
     "data": {
      "text/plain": [
       "9739"
      ]
     },
     "execution_count": 16,
     "metadata": {},
     "output_type": "execute_result"
    }
   ],
   "source": [
    "np.count_nonzero((results_table[\"truth_type\"]==1)==True)"
   ]
  },
  {
   "cell_type": "code",
   "execution_count": 18,
   "id": "4cf2cdca-c784-48cb-ac1d-cbe6ccca92c4",
   "metadata": {
    "execution": {
     "iopub.execute_input": "2024-07-22T20:10:02.160882Z",
     "iopub.status.busy": "2024-07-22T20:10:02.160111Z",
     "iopub.status.idle": "2024-07-22T20:10:02.173170Z",
     "shell.execute_reply": "2024-07-22T20:10:02.172568Z",
     "shell.execute_reply.started": "2024-07-22T20:10:02.160848Z"
    }
   },
   "outputs": [
    {
     "data": {
      "text/html": [
       "<div>\n",
       "<style scoped>\n",
       "    .dataframe tbody tr th:only-of-type {\n",
       "        vertical-align: middle;\n",
       "    }\n",
       "\n",
       "    .dataframe tbody tr th {\n",
       "        vertical-align: top;\n",
       "    }\n",
       "\n",
       "    .dataframe thead th {\n",
       "        text-align: right;\n",
       "    }\n",
       "</style>\n",
       "<table border=\"1\" class=\"dataframe\">\n",
       "  <thead>\n",
       "    <tr style=\"text-align: right;\">\n",
       "      <th></th>\n",
       "      <th>obj_id</th>\n",
       "      <th>extendedness</th>\n",
       "      <th>truth_type</th>\n",
       "      <th>truth_type2</th>\n",
       "      <th>true_redshift</th>\n",
       "      <th>true_mag_r</th>\n",
       "      <th>galaxy_match</th>\n",
       "    </tr>\n",
       "  </thead>\n",
       "  <tbody>\n",
       "    <tr>\n",
       "      <th>302</th>\n",
       "      <td>1248684569339659470</td>\n",
       "      <td>NaN</td>\n",
       "      <td>1</td>\n",
       "      <td>1</td>\n",
       "      <td>1.09028</td>\n",
       "      <td>27.668800</td>\n",
       "      <td>nan</td>\n",
       "    </tr>\n",
       "    <tr>\n",
       "      <th>792</th>\n",
       "      <td>1248684569339659471</td>\n",
       "      <td>NaN</td>\n",
       "      <td>1</td>\n",
       "      <td>1</td>\n",
       "      <td>1.63963</td>\n",
       "      <td>28.911400</td>\n",
       "      <td>nan</td>\n",
       "    </tr>\n",
       "    <tr>\n",
       "      <th>6557</th>\n",
       "      <td>1248684569339637266</td>\n",
       "      <td>NaN</td>\n",
       "      <td>1</td>\n",
       "      <td>1</td>\n",
       "      <td>1.76700</td>\n",
       "      <td>26.877501</td>\n",
       "      <td>nan</td>\n",
       "    </tr>\n",
       "  </tbody>\n",
       "</table>\n",
       "</div>"
      ],
      "text/plain": [
       "                   obj_id  extendedness  truth_type  truth_type2  \\\n",
       "302   1248684569339659470           NaN           1            1   \n",
       "792   1248684569339659471           NaN           1            1   \n",
       "6557  1248684569339637266           NaN           1            1   \n",
       "\n",
       "      true_redshift  true_mag_r galaxy_match  \n",
       "302         1.09028   27.668800          nan  \n",
       "792         1.63963   28.911400          nan  \n",
       "6557        1.76700   26.877501          nan  "
      ]
     },
     "execution_count": 18,
     "metadata": {},
     "output_type": "execute_result"
    }
   ],
   "source": [
    "results_table.loc[((results_table[\"galaxy_match\"]!=\"true positive\") & (results_table[\"galaxy_match\"]!=\"false negative\")) & (results_table[\"truth_type\"]==1)]"
   ]
  },
  {
   "cell_type": "code",
   "execution_count": 19,
   "id": "ab71a215-f27d-4a57-a26d-db946a38e492",
   "metadata": {
    "execution": {
     "iopub.execute_input": "2024-07-22T20:11:07.020156Z",
     "iopub.status.busy": "2024-07-22T20:11:07.019819Z",
     "iopub.status.idle": "2024-07-22T20:11:07.026374Z",
     "shell.execute_reply": "2024-07-22T20:11:07.025145Z",
     "shell.execute_reply.started": "2024-07-22T20:11:07.020135Z"
    }
   },
   "outputs": [],
   "source": [
    "true_galaxies=results_table.loc[(results_table[\"truth_type\"]==1)]"
   ]
  },
  {
   "cell_type": "code",
   "execution_count": 20,
   "id": "1d32ee4e-067e-455a-9daa-733fbd9a8ff7",
   "metadata": {
    "execution": {
     "iopub.execute_input": "2024-07-22T20:11:12.156307Z",
     "iopub.status.busy": "2024-07-22T20:11:12.155446Z",
     "iopub.status.idle": "2024-07-22T20:11:12.168339Z",
     "shell.execute_reply": "2024-07-22T20:11:12.167720Z",
     "shell.execute_reply.started": "2024-07-22T20:11:12.156276Z"
    }
   },
   "outputs": [
    {
     "data": {
      "text/html": [
       "<div>\n",
       "<style scoped>\n",
       "    .dataframe tbody tr th:only-of-type {\n",
       "        vertical-align: middle;\n",
       "    }\n",
       "\n",
       "    .dataframe tbody tr th {\n",
       "        vertical-align: top;\n",
       "    }\n",
       "\n",
       "    .dataframe thead th {\n",
       "        text-align: right;\n",
       "    }\n",
       "</style>\n",
       "<table border=\"1\" class=\"dataframe\">\n",
       "  <thead>\n",
       "    <tr style=\"text-align: right;\">\n",
       "      <th></th>\n",
       "      <th>obj_id</th>\n",
       "      <th>extendedness</th>\n",
       "      <th>truth_type</th>\n",
       "      <th>truth_type2</th>\n",
       "      <th>true_redshift</th>\n",
       "      <th>true_mag_r</th>\n",
       "      <th>galaxy_match</th>\n",
       "    </tr>\n",
       "  </thead>\n",
       "  <tbody>\n",
       "    <tr>\n",
       "      <th>0</th>\n",
       "      <td>1248684569339667465</td>\n",
       "      <td>0.0</td>\n",
       "      <td>1</td>\n",
       "      <td>1</td>\n",
       "      <td>1.199110</td>\n",
       "      <td>26.978800</td>\n",
       "      <td>false negative</td>\n",
       "    </tr>\n",
       "    <tr>\n",
       "      <th>1</th>\n",
       "      <td>1248684569339662222</td>\n",
       "      <td>0.0</td>\n",
       "      <td>1</td>\n",
       "      <td>1</td>\n",
       "      <td>1.279770</td>\n",
       "      <td>27.351700</td>\n",
       "      <td>false negative</td>\n",
       "    </tr>\n",
       "    <tr>\n",
       "      <th>2</th>\n",
       "      <td>1248684569339666791</td>\n",
       "      <td>1.0</td>\n",
       "      <td>1</td>\n",
       "      <td>1</td>\n",
       "      <td>1.164180</td>\n",
       "      <td>26.938200</td>\n",
       "      <td>true positive</td>\n",
       "    </tr>\n",
       "    <tr>\n",
       "      <th>3</th>\n",
       "      <td>1248684569339660119</td>\n",
       "      <td>1.0</td>\n",
       "      <td>1</td>\n",
       "      <td>1</td>\n",
       "      <td>0.788712</td>\n",
       "      <td>27.047701</td>\n",
       "      <td>true positive</td>\n",
       "    </tr>\n",
       "    <tr>\n",
       "      <th>4</th>\n",
       "      <td>1248684569339662114</td>\n",
       "      <td>0.0</td>\n",
       "      <td>1</td>\n",
       "      <td>1</td>\n",
       "      <td>0.795043</td>\n",
       "      <td>26.892000</td>\n",
       "      <td>false negative</td>\n",
       "    </tr>\n",
       "    <tr>\n",
       "      <th>...</th>\n",
       "      <td>...</td>\n",
       "      <td>...</td>\n",
       "      <td>...</td>\n",
       "      <td>...</td>\n",
       "      <td>...</td>\n",
       "      <td>...</td>\n",
       "      <td>...</td>\n",
       "    </tr>\n",
       "    <tr>\n",
       "      <th>9995</th>\n",
       "      <td>1248675773246608150</td>\n",
       "      <td>1.0</td>\n",
       "      <td>1</td>\n",
       "      <td>1</td>\n",
       "      <td>0.439385</td>\n",
       "      <td>23.284599</td>\n",
       "      <td>true positive</td>\n",
       "    </tr>\n",
       "    <tr>\n",
       "      <th>9996</th>\n",
       "      <td>1248675773246608231</td>\n",
       "      <td>1.0</td>\n",
       "      <td>1</td>\n",
       "      <td>1</td>\n",
       "      <td>0.367760</td>\n",
       "      <td>25.447701</td>\n",
       "      <td>true positive</td>\n",
       "    </tr>\n",
       "    <tr>\n",
       "      <th>9997</th>\n",
       "      <td>1248675773246608130</td>\n",
       "      <td>1.0</td>\n",
       "      <td>1</td>\n",
       "      <td>1</td>\n",
       "      <td>2.601760</td>\n",
       "      <td>26.127300</td>\n",
       "      <td>true positive</td>\n",
       "    </tr>\n",
       "    <tr>\n",
       "      <th>9998</th>\n",
       "      <td>1248675773246608135</td>\n",
       "      <td>1.0</td>\n",
       "      <td>1</td>\n",
       "      <td>1</td>\n",
       "      <td>0.902256</td>\n",
       "      <td>25.527100</td>\n",
       "      <td>true positive</td>\n",
       "    </tr>\n",
       "    <tr>\n",
       "      <th>9999</th>\n",
       "      <td>1248675773246608126</td>\n",
       "      <td>1.0</td>\n",
       "      <td>1</td>\n",
       "      <td>1</td>\n",
       "      <td>0.773233</td>\n",
       "      <td>25.923000</td>\n",
       "      <td>true positive</td>\n",
       "    </tr>\n",
       "  </tbody>\n",
       "</table>\n",
       "<p>9739 rows × 7 columns</p>\n",
       "</div>"
      ],
      "text/plain": [
       "                   obj_id  extendedness  truth_type  truth_type2  \\\n",
       "0     1248684569339667465           0.0           1            1   \n",
       "1     1248684569339662222           0.0           1            1   \n",
       "2     1248684569339666791           1.0           1            1   \n",
       "3     1248684569339660119           1.0           1            1   \n",
       "4     1248684569339662114           0.0           1            1   \n",
       "...                   ...           ...         ...          ...   \n",
       "9995  1248675773246608150           1.0           1            1   \n",
       "9996  1248675773246608231           1.0           1            1   \n",
       "9997  1248675773246608130           1.0           1            1   \n",
       "9998  1248675773246608135           1.0           1            1   \n",
       "9999  1248675773246608126           1.0           1            1   \n",
       "\n",
       "      true_redshift  true_mag_r    galaxy_match  \n",
       "0          1.199110   26.978800  false negative  \n",
       "1          1.279770   27.351700  false negative  \n",
       "2          1.164180   26.938200   true positive  \n",
       "3          0.788712   27.047701   true positive  \n",
       "4          0.795043   26.892000  false negative  \n",
       "...             ...         ...             ...  \n",
       "9995       0.439385   23.284599   true positive  \n",
       "9996       0.367760   25.447701   true positive  \n",
       "9997       2.601760   26.127300   true positive  \n",
       "9998       0.902256   25.527100   true positive  \n",
       "9999       0.773233   25.923000   true positive  \n",
       "\n",
       "[9739 rows x 7 columns]"
      ]
     },
     "execution_count": 20,
     "metadata": {},
     "output_type": "execute_result"
    }
   ],
   "source": [
    "true_galaxies"
   ]
  },
  {
   "cell_type": "code",
   "execution_count": 21,
   "id": "e44e3dd4-0dec-4571-bf56-2e05e4a3f321",
   "metadata": {
    "execution": {
     "iopub.execute_input": "2024-07-22T20:11:44.265931Z",
     "iopub.status.busy": "2024-07-22T20:11:44.265066Z",
     "iopub.status.idle": "2024-07-22T20:11:44.270046Z",
     "shell.execute_reply": "2024-07-22T20:11:44.269460Z",
     "shell.execute_reply.started": "2024-07-22T20:11:44.265903Z"
    }
   },
   "outputs": [],
   "source": [
    "identified_galaxies=results_table.loc[(results_table[\"extendedness\"]==1)]"
   ]
  },
  {
   "cell_type": "code",
   "execution_count": 22,
   "id": "9d6f6351-a26a-46bb-a036-071f12470d5a",
   "metadata": {
    "execution": {
     "iopub.execute_input": "2024-07-22T20:11:50.510427Z",
     "iopub.status.busy": "2024-07-22T20:11:50.509661Z",
     "iopub.status.idle": "2024-07-22T20:11:50.521453Z",
     "shell.execute_reply": "2024-07-22T20:11:50.520750Z",
     "shell.execute_reply.started": "2024-07-22T20:11:50.510401Z"
    }
   },
   "outputs": [
    {
     "data": {
      "text/html": [
       "<div>\n",
       "<style scoped>\n",
       "    .dataframe tbody tr th:only-of-type {\n",
       "        vertical-align: middle;\n",
       "    }\n",
       "\n",
       "    .dataframe tbody tr th {\n",
       "        vertical-align: top;\n",
       "    }\n",
       "\n",
       "    .dataframe thead th {\n",
       "        text-align: right;\n",
       "    }\n",
       "</style>\n",
       "<table border=\"1\" class=\"dataframe\">\n",
       "  <thead>\n",
       "    <tr style=\"text-align: right;\">\n",
       "      <th></th>\n",
       "      <th>obj_id</th>\n",
       "      <th>extendedness</th>\n",
       "      <th>truth_type</th>\n",
       "      <th>truth_type2</th>\n",
       "      <th>true_redshift</th>\n",
       "      <th>true_mag_r</th>\n",
       "      <th>galaxy_match</th>\n",
       "    </tr>\n",
       "  </thead>\n",
       "  <tbody>\n",
       "    <tr>\n",
       "      <th>2</th>\n",
       "      <td>1248684569339666791</td>\n",
       "      <td>1.0</td>\n",
       "      <td>1</td>\n",
       "      <td>1</td>\n",
       "      <td>1.164180</td>\n",
       "      <td>26.938200</td>\n",
       "      <td>true positive</td>\n",
       "    </tr>\n",
       "    <tr>\n",
       "      <th>3</th>\n",
       "      <td>1248684569339660119</td>\n",
       "      <td>1.0</td>\n",
       "      <td>1</td>\n",
       "      <td>1</td>\n",
       "      <td>0.788712</td>\n",
       "      <td>27.047701</td>\n",
       "      <td>true positive</td>\n",
       "    </tr>\n",
       "    <tr>\n",
       "      <th>5</th>\n",
       "      <td>1248684569339659779</td>\n",
       "      <td>1.0</td>\n",
       "      <td>1</td>\n",
       "      <td>1</td>\n",
       "      <td>1.297570</td>\n",
       "      <td>26.950701</td>\n",
       "      <td>true positive</td>\n",
       "    </tr>\n",
       "    <tr>\n",
       "      <th>6</th>\n",
       "      <td>1248684569339659562</td>\n",
       "      <td>1.0</td>\n",
       "      <td>1</td>\n",
       "      <td>1</td>\n",
       "      <td>1.300980</td>\n",
       "      <td>26.498699</td>\n",
       "      <td>true positive</td>\n",
       "    </tr>\n",
       "    <tr>\n",
       "      <th>9</th>\n",
       "      <td>1248684569339659694</td>\n",
       "      <td>1.0</td>\n",
       "      <td>1</td>\n",
       "      <td>1</td>\n",
       "      <td>0.952824</td>\n",
       "      <td>26.764000</td>\n",
       "      <td>true positive</td>\n",
       "    </tr>\n",
       "    <tr>\n",
       "      <th>...</th>\n",
       "      <td>...</td>\n",
       "      <td>...</td>\n",
       "      <td>...</td>\n",
       "      <td>...</td>\n",
       "      <td>...</td>\n",
       "      <td>...</td>\n",
       "      <td>...</td>\n",
       "    </tr>\n",
       "    <tr>\n",
       "      <th>9995</th>\n",
       "      <td>1248675773246608150</td>\n",
       "      <td>1.0</td>\n",
       "      <td>1</td>\n",
       "      <td>1</td>\n",
       "      <td>0.439385</td>\n",
       "      <td>23.284599</td>\n",
       "      <td>true positive</td>\n",
       "    </tr>\n",
       "    <tr>\n",
       "      <th>9996</th>\n",
       "      <td>1248675773246608231</td>\n",
       "      <td>1.0</td>\n",
       "      <td>1</td>\n",
       "      <td>1</td>\n",
       "      <td>0.367760</td>\n",
       "      <td>25.447701</td>\n",
       "      <td>true positive</td>\n",
       "    </tr>\n",
       "    <tr>\n",
       "      <th>9997</th>\n",
       "      <td>1248675773246608130</td>\n",
       "      <td>1.0</td>\n",
       "      <td>1</td>\n",
       "      <td>1</td>\n",
       "      <td>2.601760</td>\n",
       "      <td>26.127300</td>\n",
       "      <td>true positive</td>\n",
       "    </tr>\n",
       "    <tr>\n",
       "      <th>9998</th>\n",
       "      <td>1248675773246608135</td>\n",
       "      <td>1.0</td>\n",
       "      <td>1</td>\n",
       "      <td>1</td>\n",
       "      <td>0.902256</td>\n",
       "      <td>25.527100</td>\n",
       "      <td>true positive</td>\n",
       "    </tr>\n",
       "    <tr>\n",
       "      <th>9999</th>\n",
       "      <td>1248675773246608126</td>\n",
       "      <td>1.0</td>\n",
       "      <td>1</td>\n",
       "      <td>1</td>\n",
       "      <td>0.773233</td>\n",
       "      <td>25.923000</td>\n",
       "      <td>true positive</td>\n",
       "    </tr>\n",
       "  </tbody>\n",
       "</table>\n",
       "<p>8000 rows × 7 columns</p>\n",
       "</div>"
      ],
      "text/plain": [
       "                   obj_id  extendedness  truth_type  truth_type2  \\\n",
       "2     1248684569339666791           1.0           1            1   \n",
       "3     1248684569339660119           1.0           1            1   \n",
       "5     1248684569339659779           1.0           1            1   \n",
       "6     1248684569339659562           1.0           1            1   \n",
       "9     1248684569339659694           1.0           1            1   \n",
       "...                   ...           ...         ...          ...   \n",
       "9995  1248675773246608150           1.0           1            1   \n",
       "9996  1248675773246608231           1.0           1            1   \n",
       "9997  1248675773246608130           1.0           1            1   \n",
       "9998  1248675773246608135           1.0           1            1   \n",
       "9999  1248675773246608126           1.0           1            1   \n",
       "\n",
       "      true_redshift  true_mag_r   galaxy_match  \n",
       "2          1.164180   26.938200  true positive  \n",
       "3          0.788712   27.047701  true positive  \n",
       "5          1.297570   26.950701  true positive  \n",
       "6          1.300980   26.498699  true positive  \n",
       "9          0.952824   26.764000  true positive  \n",
       "...             ...         ...            ...  \n",
       "9995       0.439385   23.284599  true positive  \n",
       "9996       0.367760   25.447701  true positive  \n",
       "9997       2.601760   26.127300  true positive  \n",
       "9998       0.902256   25.527100  true positive  \n",
       "9999       0.773233   25.923000  true positive  \n",
       "\n",
       "[8000 rows x 7 columns]"
      ]
     },
     "execution_count": 22,
     "metadata": {},
     "output_type": "execute_result"
    }
   ],
   "source": [
    "identified_galaxies"
   ]
  },
  {
   "cell_type": "code",
   "execution_count": 25,
   "id": "75f526a0-1a0d-4a3e-bd0f-ae3ec7424362",
   "metadata": {
    "execution": {
     "iopub.execute_input": "2024-07-22T20:21:03.807229Z",
     "iopub.status.busy": "2024-07-22T20:21:03.806636Z",
     "iopub.status.idle": "2024-07-22T20:21:03.974663Z",
     "shell.execute_reply": "2024-07-22T20:21:03.974090Z",
     "shell.execute_reply.started": "2024-07-22T20:21:03.807205Z"
    }
   },
   "outputs": [
    {
     "data": {
      "text/plain": [
       "(array([ 190.,  460.,  482.,  729.,  957.,  946., 1302.,  979.,  634.,\n",
       "         698.,  614.,  334.,  369.,  272.,  133.,  134.,  185.,  115.,\n",
       "         119.,   87.]),\n",
       " array([0.0427582 , 0.19178829, 0.34081838, 0.48984846, 0.63887858,\n",
       "        0.78790867, 0.93693876, 1.08596885, 1.23499894, 1.38402903,\n",
       "        1.53305912, 1.68208921, 1.8311193 , 1.98014939, 2.12917948,\n",
       "        2.27820945, 2.42723966, 2.57626963, 2.72529984, 2.87432981,\n",
       "        3.02336001]),\n",
       " <BarContainer object of 20 artists>)"
      ]
     },
     "execution_count": 25,
     "metadata": {},
     "output_type": "execute_result"
    },
    {
     "data": {
      "image/png": "[encoded data removed]",
      "text/plain": [
       "<Figure size 640x480 with 1 Axes>"
      ]
     },
     "metadata": {},
     "output_type": "display_data"
    }
   ],
   "source": [
    "plt.hist(true_galaxies[\"true_redshift\"],20)"
   ]
  },
  {
   "cell_type": "code",
   "execution_count": 26,
   "id": "dee0e84c-840e-477f-8367-286932389fcf",
   "metadata": {
    "execution": {
     "iopub.execute_input": "2024-07-22T20:21:17.416033Z",
     "iopub.status.busy": "2024-07-22T20:21:17.415262Z",
     "iopub.status.idle": "2024-07-22T20:21:17.589087Z",
     "shell.execute_reply": "2024-07-22T20:21:17.588546Z",
     "shell.execute_reply.started": "2024-07-22T20:21:17.416008Z"
    }
   },
   "outputs": [
    {
     "data": {
      "text/plain": [
       "(array([ 199.,  349.,  424.,  514.,  758.,  868., 1172.,  629.,  711.,\n",
       "         514.,  489.,  261.,  265.,  240.,  104.,  106.,  151.,   89.,\n",
       "          89.,   68.]),\n",
       " array([0.        , 0.151168  , 0.30233601, 0.453504  , 0.60467201,\n",
       "        0.75584   , 0.90700799, 1.05817604, 1.20934403, 1.36051202,\n",
       "        1.51168001, 1.662848  , 1.81401598, 1.96518397, 2.11635208,\n",
       "        2.26751995, 2.41868806, 2.56985593, 2.72102404, 2.87219191,\n",
       "        3.02336001]),\n",
       " <BarContainer object of 20 artists>)"
      ]
     },
     "execution_count": 26,
     "metadata": {},
     "output_type": "execute_result"
    },
    {
     "data": {
      "image/png": "[encoded data removed]",
      "text/plain": [
       "<Figure size 640x480 with 1 Axes>"
      ]
     },
     "metadata": {},
     "output_type": "display_data"
    }
   ],
   "source": [
    "plt.hist(identified_galaxies[\"true_redshift\"],20)"
   ]
  },
  {
   "cell_type": "code",
   "execution_count": 27,
   "id": "8dbfe592-4ace-42e4-b484-384e3eba3df8",
   "metadata": {
    "execution": {
     "iopub.execute_input": "2024-07-22T20:21:59.352880Z",
     "iopub.status.busy": "2024-07-22T20:21:59.352522Z",
     "iopub.status.idle": "2024-07-22T20:21:59.376393Z",
     "shell.execute_reply": "2024-07-22T20:21:59.375584Z",
     "shell.execute_reply.started": "2024-07-22T20:21:59.352858Z"
    }
   },
   "outputs": [
    {
     "data": {
      "text/html": [
       "<div>\n",
       "<style scoped>\n",
       "    .dataframe tbody tr th:only-of-type {\n",
       "        vertical-align: middle;\n",
       "    }\n",
       "\n",
       "    .dataframe tbody tr th {\n",
       "        vertical-align: top;\n",
       "    }\n",
       "\n",
       "    .dataframe thead th {\n",
       "        text-align: right;\n",
       "    }\n",
       "</style>\n",
       "<table border=\"1\" class=\"dataframe\">\n",
       "  <thead>\n",
       "    <tr style=\"text-align: right;\">\n",
       "      <th></th>\n",
       "      <th>obj_id</th>\n",
       "      <th>extendedness</th>\n",
       "      <th>truth_type</th>\n",
       "      <th>truth_type2</th>\n",
       "      <th>true_redshift</th>\n",
       "      <th>true_mag_r</th>\n",
       "    </tr>\n",
       "  </thead>\n",
       "  <tbody>\n",
       "    <tr>\n",
       "      <th>count</th>\n",
       "      <td>9.739000e+03</td>\n",
       "      <td>9736.000000</td>\n",
       "      <td>9739.0</td>\n",
       "      <td>9739.0</td>\n",
       "      <td>9739.000000</td>\n",
       "      <td>9739.000000</td>\n",
       "    </tr>\n",
       "    <tr>\n",
       "      <th>mean</th>\n",
       "      <td>1.248683e+18</td>\n",
       "      <td>0.811113</td>\n",
       "      <td>1.0</td>\n",
       "      <td>1.0</td>\n",
       "      <td>1.166730</td>\n",
       "      <td>25.586267</td>\n",
       "    </tr>\n",
       "    <tr>\n",
       "      <th>std</th>\n",
       "      <td>3.249589e+12</td>\n",
       "      <td>0.391439</td>\n",
       "      <td>0.0</td>\n",
       "      <td>0.0</td>\n",
       "      <td>0.609476</td>\n",
       "      <td>1.267037</td>\n",
       "    </tr>\n",
       "    <tr>\n",
       "      <th>min</th>\n",
       "      <td>1.248676e+18</td>\n",
       "      <td>0.000000</td>\n",
       "      <td>1.0</td>\n",
       "      <td>1.0</td>\n",
       "      <td>0.042758</td>\n",
       "      <td>18.294001</td>\n",
       "    </tr>\n",
       "    <tr>\n",
       "      <th>25%</th>\n",
       "      <td>1.248685e+18</td>\n",
       "      <td>1.000000</td>\n",
       "      <td>1.0</td>\n",
       "      <td>1.0</td>\n",
       "      <td>0.746669</td>\n",
       "      <td>24.977300</td>\n",
       "    </tr>\n",
       "    <tr>\n",
       "      <th>50%</th>\n",
       "      <td>1.248685e+18</td>\n",
       "      <td>1.000000</td>\n",
       "      <td>1.0</td>\n",
       "      <td>1.0</td>\n",
       "      <td>1.047060</td>\n",
       "      <td>25.825300</td>\n",
       "    </tr>\n",
       "    <tr>\n",
       "      <th>75%</th>\n",
       "      <td>1.248685e+18</td>\n",
       "      <td>1.000000</td>\n",
       "      <td>1.0</td>\n",
       "      <td>1.0</td>\n",
       "      <td>1.512030</td>\n",
       "      <td>26.421201</td>\n",
       "    </tr>\n",
       "    <tr>\n",
       "      <th>max</th>\n",
       "      <td>1.248685e+18</td>\n",
       "      <td>1.000000</td>\n",
       "      <td>1.0</td>\n",
       "      <td>1.0</td>\n",
       "      <td>3.023360</td>\n",
       "      <td>29.023600</td>\n",
       "    </tr>\n",
       "  </tbody>\n",
       "</table>\n",
       "</div>"
      ],
      "text/plain": [
       "             obj_id  extendedness  truth_type  truth_type2  true_redshift  \\\n",
       "count  9.739000e+03   9736.000000      9739.0       9739.0    9739.000000   \n",
       "mean   1.248683e+18      0.811113         1.0          1.0       1.166730   \n",
       "std    3.249589e+12      0.391439         0.0          0.0       0.609476   \n",
       "min    1.248676e+18      0.000000         1.0          1.0       0.042758   \n",
       "25%    1.248685e+18      1.000000         1.0          1.0       0.746669   \n",
       "50%    1.248685e+18      1.000000         1.0          1.0       1.047060   \n",
       "75%    1.248685e+18      1.000000         1.0          1.0       1.512030   \n",
       "max    1.248685e+18      1.000000         1.0          1.0       3.023360   \n",
       "\n",
       "        true_mag_r  \n",
       "count  9739.000000  \n",
       "mean     25.586267  \n",
       "std       1.267037  \n",
       "min      18.294001  \n",
       "25%      24.977300  \n",
       "50%      25.825300  \n",
       "75%      26.421201  \n",
       "max      29.023600  "
      ]
     },
     "execution_count": 27,
     "metadata": {},
     "output_type": "execute_result"
    }
   ],
   "source": [
    "true_galaxies.describe()"
   ]
  },
  {
   "cell_type": "code",
   "execution_count": 28,
   "id": "c7a0bc1f-84eb-41d3-b6b7-a8ed2b53583c",
   "metadata": {
    "execution": {
     "iopub.execute_input": "2024-07-22T20:22:07.347167Z",
     "iopub.status.busy": "2024-07-22T20:22:07.346534Z",
     "iopub.status.idle": "2024-07-22T20:22:07.368309Z",
     "shell.execute_reply": "2024-07-22T20:22:07.367543Z",
     "shell.execute_reply.started": "2024-07-22T20:22:07.347142Z"
    }
   },
   "outputs": [
    {
     "data": {
      "text/html": [
       "<div>\n",
       "<style scoped>\n",
       "    .dataframe tbody tr th:only-of-type {\n",
       "        vertical-align: middle;\n",
       "    }\n",
       "\n",
       "    .dataframe tbody tr th {\n",
       "        vertical-align: top;\n",
       "    }\n",
       "\n",
       "    .dataframe thead th {\n",
       "        text-align: right;\n",
       "    }\n",
       "</style>\n",
       "<table border=\"1\" class=\"dataframe\">\n",
       "  <thead>\n",
       "    <tr style=\"text-align: right;\">\n",
       "      <th></th>\n",
       "      <th>obj_id</th>\n",
       "      <th>extendedness</th>\n",
       "      <th>truth_type</th>\n",
       "      <th>truth_type2</th>\n",
       "      <th>true_redshift</th>\n",
       "      <th>true_mag_r</th>\n",
       "    </tr>\n",
       "  </thead>\n",
       "  <tbody>\n",
       "    <tr>\n",
       "      <th>count</th>\n",
       "      <td>8.000000e+03</td>\n",
       "      <td>8000.0</td>\n",
       "      <td>8000.000000</td>\n",
       "      <td>8000.000000</td>\n",
       "      <td>8000.000000</td>\n",
       "      <td>8000.000000</td>\n",
       "    </tr>\n",
       "    <tr>\n",
       "      <th>mean</th>\n",
       "      <td>1.248683e+18</td>\n",
       "      <td>1.0</td>\n",
       "      <td>1.012875</td>\n",
       "      <td>1.012875</td>\n",
       "      <td>1.126787</td>\n",
       "      <td>25.392977</td>\n",
       "    </tr>\n",
       "    <tr>\n",
       "      <th>std</th>\n",
       "      <td>3.231009e+12</td>\n",
       "      <td>0.0</td>\n",
       "      <td>0.112742</td>\n",
       "      <td>0.112742</td>\n",
       "      <td>0.616091</td>\n",
       "      <td>1.342824</td>\n",
       "    </tr>\n",
       "    <tr>\n",
       "      <th>min</th>\n",
       "      <td>1.248676e+18</td>\n",
       "      <td>1.0</td>\n",
       "      <td>1.000000</td>\n",
       "      <td>1.000000</td>\n",
       "      <td>0.000000</td>\n",
       "      <td>12.947800</td>\n",
       "    </tr>\n",
       "    <tr>\n",
       "      <th>25%</th>\n",
       "      <td>1.248685e+18</td>\n",
       "      <td>1.0</td>\n",
       "      <td>1.000000</td>\n",
       "      <td>1.000000</td>\n",
       "      <td>0.706055</td>\n",
       "      <td>24.729276</td>\n",
       "    </tr>\n",
       "    <tr>\n",
       "      <th>50%</th>\n",
       "      <td>1.248685e+18</td>\n",
       "      <td>1.0</td>\n",
       "      <td>1.000000</td>\n",
       "      <td>1.000000</td>\n",
       "      <td>1.010840</td>\n",
       "      <td>25.633550</td>\n",
       "    </tr>\n",
       "    <tr>\n",
       "      <th>75%</th>\n",
       "      <td>1.248685e+18</td>\n",
       "      <td>1.0</td>\n",
       "      <td>1.000000</td>\n",
       "      <td>1.000000</td>\n",
       "      <td>1.476615</td>\n",
       "      <td>26.295451</td>\n",
       "    </tr>\n",
       "    <tr>\n",
       "      <th>max</th>\n",
       "      <td>1.248685e+18</td>\n",
       "      <td>1.0</td>\n",
       "      <td>2.000000</td>\n",
       "      <td>2.000000</td>\n",
       "      <td>3.023360</td>\n",
       "      <td>29.023600</td>\n",
       "    </tr>\n",
       "  </tbody>\n",
       "</table>\n",
       "</div>"
      ],
      "text/plain": [
       "             obj_id  extendedness   truth_type  truth_type2  true_redshift  \\\n",
       "count  8.000000e+03        8000.0  8000.000000  8000.000000    8000.000000   \n",
       "mean   1.248683e+18           1.0     1.012875     1.012875       1.126787   \n",
       "std    3.231009e+12           0.0     0.112742     0.112742       0.616091   \n",
       "min    1.248676e+18           1.0     1.000000     1.000000       0.000000   \n",
       "25%    1.248685e+18           1.0     1.000000     1.000000       0.706055   \n",
       "50%    1.248685e+18           1.0     1.000000     1.000000       1.010840   \n",
       "75%    1.248685e+18           1.0     1.000000     1.000000       1.476615   \n",
       "max    1.248685e+18           1.0     2.000000     2.000000       3.023360   \n",
       "\n",
       "        true_mag_r  \n",
       "count  8000.000000  \n",
       "mean     25.392977  \n",
       "std       1.342824  \n",
       "min      12.947800  \n",
       "25%      24.729276  \n",
       "50%      25.633550  \n",
       "75%      26.295451  \n",
       "max      29.023600  "
      ]
     },
     "execution_count": 28,
     "metadata": {},
     "output_type": "execute_result"
    }
   ],
   "source": [
    "identified_galaxies.describe()"
   ]
  },
  {
   "cell_type": "code",
   "execution_count": 29,
   "id": "1e1a66d4-5a7a-4830-a8e3-db12789137fb",
   "metadata": {
    "execution": {
     "iopub.execute_input": "2024-07-22T20:23:26.424223Z",
     "iopub.status.busy": "2024-07-22T20:23:26.423537Z",
     "iopub.status.idle": "2024-07-22T20:23:26.426873Z",
     "shell.execute_reply": "2024-07-22T20:23:26.426324Z",
     "shell.execute_reply.started": "2024-07-22T20:23:26.424196Z"
    }
   },
   "outputs": [],
   "source": [
    "#mean and median redshift are both a bit lower for indentified galaxies than true\n",
    "#which makes sense as they are more likely to look like points further away"
   ]
  },
  {
   "cell_type": "code",
   "execution_count": 37,
   "id": "cc980430-b52d-4541-85da-dee6b437be1e",
   "metadata": {
    "execution": {
     "iopub.execute_input": "2024-07-22T20:41:02.184984Z",
     "iopub.status.busy": "2024-07-22T20:41:02.184275Z",
     "iopub.status.idle": "2024-07-22T20:41:02.192921Z",
     "shell.execute_reply": "2024-07-22T20:41:02.192406Z",
     "shell.execute_reply.started": "2024-07-22T20:41:02.184958Z"
    }
   },
   "outputs": [
    {
     "data": {
      "text/html": [
       "<div>\n",
       "<style scoped>\n",
       "    .dataframe tbody tr th:only-of-type {\n",
       "        vertical-align: middle;\n",
       "    }\n",
       "\n",
       "    .dataframe tbody tr th {\n",
       "        vertical-align: top;\n",
       "    }\n",
       "\n",
       "    .dataframe thead th {\n",
       "        text-align: right;\n",
       "    }\n",
       "</style>\n",
       "<table border=\"1\" class=\"dataframe\">\n",
       "  <thead>\n",
       "    <tr style=\"text-align: right;\">\n",
       "      <th></th>\n",
       "      <th>extendedness</th>\n",
       "      <th>true_redshift</th>\n",
       "    </tr>\n",
       "  </thead>\n",
       "  <tbody>\n",
       "    <tr>\n",
       "      <th>extendedness</th>\n",
       "      <td>1.00000</td>\n",
       "      <td>-0.08549</td>\n",
       "    </tr>\n",
       "    <tr>\n",
       "      <th>true_redshift</th>\n",
       "      <td>-0.08549</td>\n",
       "      <td>1.00000</td>\n",
       "    </tr>\n",
       "  </tbody>\n",
       "</table>\n",
       "</div>"
      ],
      "text/plain": [
       "               extendedness  true_redshift\n",
       "extendedness        1.00000       -0.08549\n",
       "true_redshift      -0.08549        1.00000"
      ]
     },
     "execution_count": 37,
     "metadata": {},
     "output_type": "execute_result"
    }
   ],
   "source": [
    "true_galaxies[[\"extendedness\",\"true_redshift\"]].corr()"
   ]
  },
  {
   "cell_type": "code",
   "execution_count": null,
   "id": "4353bdf8-fd4f-49bc-82a8-07fd7685268d",
   "metadata": {},
   "outputs": [],
   "source": [
    "#shows that extendness and redshift are inversely correlated for true galaxies\n",
    "#aka less likely to identify them as galaxies if they are further away"
   ]
  },
  {
   "cell_type": "code",
   "execution_count": 38,
   "id": "0159433d-d593-4b53-abcd-cd5c42ee3f21",
   "metadata": {
    "execution": {
     "iopub.execute_input": "2024-07-22T20:41:41.782900Z",
     "iopub.status.busy": "2024-07-22T20:41:41.782606Z",
     "iopub.status.idle": "2024-07-22T20:41:41.956983Z",
     "shell.execute_reply": "2024-07-22T20:41:41.956475Z",
     "shell.execute_reply.started": "2024-07-22T20:41:41.782878Z"
    }
   },
   "outputs": [
    {
     "data": {
      "text/plain": [
       "<matplotlib.collections.PathCollection at 0x7f9943121f10>"
      ]
     },
     "execution_count": 38,
     "metadata": {},
     "output_type": "execute_result"
    },
    {
     "data": {
      "image/png": "[encoded data removed]",
      "text/plain": [
       "<Figure size 640x480 with 1 Axes>"
      ]
     },
     "metadata": {},
     "output_type": "display_data"
    }
   ],
   "source": [
    "plt.scatter(true_galaxies[\"extendedness\"],true_galaxies[\"true_redshift\"],alpha=0.02)"
   ]
  },
  {
   "cell_type": "code",
   "execution_count": 36,
   "id": "c8dc30de-2899-4470-877d-594c9e9fbfd3",
   "metadata": {
    "execution": {
     "iopub.execute_input": "2024-07-22T20:34:44.123334Z",
     "iopub.status.busy": "2024-07-22T20:34:44.122424Z",
     "iopub.status.idle": "2024-07-22T20:34:44.126587Z",
     "shell.execute_reply": "2024-07-22T20:34:44.125768Z",
     "shell.execute_reply.started": "2024-07-22T20:34:44.123301Z"
    }
   },
   "outputs": [],
   "source": [
    "#visually shows the same thing"
   ]
  },
  {
   "cell_type": "code",
   "execution_count": null,
   "id": "dd5e1bcc-ddce-41f2-bb41-e9af75acc938",
   "metadata": {},
   "outputs": [],
   "source": []
  }
 ],
 "metadata": {
  "kernelspec": {
   "display_name": "LSST",
   "language": "python",
   "name": "lsst"
  },
  "language_info": {
   "codemirror_mode": {
    "name": "ipython",
    "version": 3
   },
   "file_extension": ".py",
   "mimetype": "text/x-python",
   "name": "python",
   "nbconvert_exporter": "python",
   "pygments_lexer": "ipython3",
   "version": "3.11.7"
  }
 },
 "nbformat": 4,
 "nbformat_minor": 5
}
